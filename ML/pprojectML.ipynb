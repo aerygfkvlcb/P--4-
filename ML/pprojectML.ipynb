{
 "cells": [
  {
   "cell_type": "code",
   "execution_count": 109,
   "id": "0ef61017",
   "metadata": {},
   "outputs": [],
   "source": [
    "import numpy as np\n",
    "import pandas as pd\n",
    "import matplotlib.pyplot as plt\n",
    "from sklearn.model_selection import train_test_split\n",
    "from sklearn.preprocessing import StandardScaler\n",
    "from sklearn.metrics import accuracy_score\n",
    "from sklearn.tree import plot_tree\n",
    "from sklearn.model_selection import GridSearchCV\n",
    "from sklearn.linear_model import LogisticRegression\n",
    "from sklearn.tree import DecisionTreeClassifier\n",
    "from sklearn.ensemble import RandomForestClassifier"
   ]
  },
  {
   "cell_type": "code",
   "execution_count": 110,
   "id": "d7f6264a",
   "metadata": {},
   "outputs": [],
   "source": [
    "np.random.seed(5)"
   ]
  },
  {
   "cell_type": "code",
   "execution_count": 123,
   "id": "25b8f684",
   "metadata": {},
   "outputs": [],
   "source": [
    "speed1 = np.random.randint(0, 25, size=20000)\n",
    "tmp_speed1 = np.random.randint(3, 25, size=10000)\n",
    "tmp_speed2 = np.random.randint(0, 3, size=10000)\n",
    "\n",
    "\n",
    "tilt1 = np.random.randint(200, 300, size=10000)\n",
    "tilt2 = np.random.randint(0, 200, size=10000)\n",
    "\n",
    "speed2 = np.concatenate((tmp_speed1, tmp_speed2))\n",
    "tilt = np.concatenate((tilt1, tilt2))"
   ]
  },
  {
   "cell_type": "code",
   "execution_count": 124,
   "id": "a95f3110",
   "metadata": {},
   "outputs": [],
   "source": [
    "data = []\n",
    "for i in zip(speed1, speed2, tilt):\n",
    "    data.append(list(i))\n",
    "\n",
    "data = np.array(data)"
   ]
  },
  {
   "cell_type": "code",
   "execution_count": 127,
   "id": "cd4dbcb3",
   "metadata": {},
   "outputs": [],
   "source": [
    "label = []\n",
    "for i in data:\n",
    "    if i[0] >= 14 and i[1] <= 3 and i[2] <=200:\n",
    "        label.append(1)\n",
    "    else:\n",
    "        label.append(0)\n",
    "        \n",
    "label = np.array(label)"
   ]
  },
  {
   "cell_type": "code",
   "execution_count": 128,
   "id": "f2e75dd1",
   "metadata": {},
   "outputs": [
    {
     "data": {
      "text/html": [
       "<div>\n",
       "<style scoped>\n",
       "    .dataframe tbody tr th:only-of-type {\n",
       "        vertical-align: middle;\n",
       "    }\n",
       "\n",
       "    .dataframe tbody tr th {\n",
       "        vertical-align: top;\n",
       "    }\n",
       "\n",
       "    .dataframe thead th {\n",
       "        text-align: right;\n",
       "    }\n",
       "</style>\n",
       "<table border=\"1\" class=\"dataframe\">\n",
       "  <thead>\n",
       "    <tr style=\"text-align: right;\">\n",
       "      <th></th>\n",
       "      <th>speed1</th>\n",
       "      <th>speed2</th>\n",
       "      <th>tilt</th>\n",
       "      <th>label</th>\n",
       "    </tr>\n",
       "  </thead>\n",
       "  <tbody>\n",
       "    <tr>\n",
       "      <th>0</th>\n",
       "      <td>5</td>\n",
       "      <td>15</td>\n",
       "      <td>298</td>\n",
       "      <td>0</td>\n",
       "    </tr>\n",
       "    <tr>\n",
       "      <th>1</th>\n",
       "      <td>5</td>\n",
       "      <td>9</td>\n",
       "      <td>225</td>\n",
       "      <td>0</td>\n",
       "    </tr>\n",
       "    <tr>\n",
       "      <th>2</th>\n",
       "      <td>6</td>\n",
       "      <td>3</td>\n",
       "      <td>208</td>\n",
       "      <td>0</td>\n",
       "    </tr>\n",
       "    <tr>\n",
       "      <th>3</th>\n",
       "      <td>16</td>\n",
       "      <td>24</td>\n",
       "      <td>230</td>\n",
       "      <td>0</td>\n",
       "    </tr>\n",
       "    <tr>\n",
       "      <th>4</th>\n",
       "      <td>18</td>\n",
       "      <td>6</td>\n",
       "      <td>222</td>\n",
       "      <td>0</td>\n",
       "    </tr>\n",
       "    <tr>\n",
       "      <th>...</th>\n",
       "      <td>...</td>\n",
       "      <td>...</td>\n",
       "      <td>...</td>\n",
       "      <td>...</td>\n",
       "    </tr>\n",
       "    <tr>\n",
       "      <th>19995</th>\n",
       "      <td>5</td>\n",
       "      <td>0</td>\n",
       "      <td>118</td>\n",
       "      <td>0</td>\n",
       "    </tr>\n",
       "    <tr>\n",
       "      <th>19996</th>\n",
       "      <td>16</td>\n",
       "      <td>1</td>\n",
       "      <td>87</td>\n",
       "      <td>1</td>\n",
       "    </tr>\n",
       "    <tr>\n",
       "      <th>19997</th>\n",
       "      <td>5</td>\n",
       "      <td>1</td>\n",
       "      <td>49</td>\n",
       "      <td>0</td>\n",
       "    </tr>\n",
       "    <tr>\n",
       "      <th>19998</th>\n",
       "      <td>1</td>\n",
       "      <td>2</td>\n",
       "      <td>13</td>\n",
       "      <td>0</td>\n",
       "    </tr>\n",
       "    <tr>\n",
       "      <th>19999</th>\n",
       "      <td>12</td>\n",
       "      <td>2</td>\n",
       "      <td>171</td>\n",
       "      <td>0</td>\n",
       "    </tr>\n",
       "  </tbody>\n",
       "</table>\n",
       "<p>20000 rows × 4 columns</p>\n",
       "</div>"
      ],
      "text/plain": [
       "       speed1  speed2  tilt  label\n",
       "0           5      15   298      0\n",
       "1           5       9   225      0\n",
       "2           6       3   208      0\n",
       "3          16      24   230      0\n",
       "4          18       6   222      0\n",
       "...       ...     ...   ...    ...\n",
       "19995       5       0   118      0\n",
       "19996      16       1    87      1\n",
       "19997       5       1    49      0\n",
       "19998       1       2    13      0\n",
       "19999      12       2   171      0\n",
       "\n",
       "[20000 rows x 4 columns]"
      ]
     },
     "execution_count": 128,
     "metadata": {},
     "output_type": "execute_result"
    }
   ],
   "source": [
    "datas = pd.DataFrame({\n",
    "    'speed1':speed1,\n",
    "    'speed2':speed2,\n",
    "    'tilt':tilt,\n",
    "    'label':label\n",
    "})\n",
    "datas"
   ]
  },
  {
   "cell_type": "code",
   "execution_count": 129,
   "id": "db8e0610",
   "metadata": {},
   "outputs": [],
   "source": [
    "x_train, x_test, y_train, y_test = train_test_split(data, label, \n",
    "                                                      test_size=0.2,\n",
    "                                                      random_state=83,\n",
    "                                                      shuffle=True,\n",
    "                                                      stratify=label)"
   ]
  },
  {
   "cell_type": "code",
   "execution_count": 130,
   "id": "ce900b24",
   "metadata": {},
   "outputs": [],
   "source": [
    "ss = StandardScaler()\n",
    "ss.fit(x_train)\n",
    "x_train_scaled= ss.transform(x_train)\n",
    "x_test_scaled= ss.transform(x_test)"
   ]
  },
  {
   "cell_type": "code",
   "execution_count": 131,
   "id": "c406d535",
   "metadata": {},
   "outputs": [],
   "source": [
    "params = {'min_impurity_decrease': [0.0001, 0.0002, 0.0003, 0.0004, 0.0005]}"
   ]
  },
  {
   "cell_type": "code",
   "execution_count": 132,
   "id": "5514bf49",
   "metadata": {},
   "outputs": [
    {
     "name": "stdout",
     "output_type": "stream",
     "text": [
      "{'fit_time': array([0.0100019 , 0.00900173, 0.01000214, 0.01000214, 0.00900173]), 'score_time': array([0., 0., 0., 0., 0.]), 'test_score': array([0.9621875, 0.9609375, 0.96625  , 0.9690625, 0.969375 ])}\n",
      "0.9685\n"
     ]
    }
   ],
   "source": [
    "lr = LogisticRegression()\n",
    "lr.fit(x_train_scaled, y_train)\n",
    "scores = cross_validate(lr, x_train_scaled, y_train)\n",
    "print(scores)\n",
    "\n",
    "lr_pred=lr.predict(x_test_scaled)\n",
    "print(accuracy_score(y_test, lr_pred))"
   ]
  },
  {
   "cell_type": "code",
   "execution_count": 133,
   "id": "13b057df",
   "metadata": {},
   "outputs": [
    {
     "name": "stdout",
     "output_type": "stream",
     "text": [
      "1.0\n"
     ]
    }
   ],
   "source": [
    "gs_dt= GridSearchCV(DecisionTreeClassifier(random_state=221), params, n_jobs=-1)\n",
    "gs_dt.fit(x_train_scaled, y_train)\n",
    "dt_clf = gs_dt.best_estimator_\n",
    "\n",
    "dt_clf_pred=dt_clf.predict(x_test_scaled)\n",
    "print(accuracy_score(y_test, dt_clf_pred))"
   ]
  },
  {
   "cell_type": "code",
   "execution_count": 134,
   "id": "ee6b180a",
   "metadata": {},
   "outputs": [
    {
     "name": "stdout",
     "output_type": "stream",
     "text": [
      "1.0\n"
     ]
    }
   ],
   "source": [
    "gs_rf= GridSearchCV(RandomForestClassifier(random_state=221), params, n_jobs=-1)\n",
    "gs_rf.fit(x_train_scaled, y_train)\n",
    "rf_clf = gs_rf.best_estimator_\n",
    "\n",
    "rf_clf_pred=rf_clf.predict(x_test_scaled)\n",
    "print(accuracy_score(y_test, rf_clf_pred))"
   ]
  },
  {
   "cell_type": "code",
   "execution_count": 145,
   "id": "41ae9495",
   "metadata": {},
   "outputs": [],
   "source": [
    "import time"
   ]
  },
  {
   "cell_type": "code",
   "execution_count": 150,
   "id": "29eeb0bf",
   "metadata": {},
   "outputs": [],
   "source": [
    "temp = np.array([[15, 8, 223]])\n",
    "temp_scaled=ss.transform(temp)"
   ]
  },
  {
   "cell_type": "code",
   "execution_count": 157,
   "id": "488bbbea",
   "metadata": {},
   "outputs": [
    {
     "name": "stdout",
     "output_type": "stream",
     "text": [
      "[0]\n",
      "0.0000000000000000000000000000000000000000000000000000000000000000000000000000000000000000000000000000 sec\n"
     ]
    }
   ],
   "source": [
    "start = time.time()\n",
    "lr_pred=lr.predict(temp_scaled)\n",
    "end = time.time()\n",
    "\n",
    "print(lr_pred)\n",
    "print(f\"{end - start:.100f} sec\")"
   ]
  },
  {
   "cell_type": "code",
   "execution_count": 158,
   "id": "02b29307",
   "metadata": {},
   "outputs": [
    {
     "name": "stdout",
     "output_type": "stream",
     "text": [
      "[0]\n",
      "0.0000000000000000000000000000000000000000000000000000000000000000000000000000000000000000000000000000 sec\n"
     ]
    }
   ],
   "source": [
    "start = time.time()\n",
    "dt_clf_pred=dt_clf.predict(temp_scaled)\n",
    "end = time.time()\n",
    "\n",
    "print(dt_clf_pred)\n",
    "print(f\"{end - start:.100f} sec\")"
   ]
  },
  {
   "cell_type": "code",
   "execution_count": 159,
   "id": "066b7c8b",
   "metadata": {},
   "outputs": [
    {
     "name": "stdout",
     "output_type": "stream",
     "text": [
      "[0]\n",
      "0.0054085254669189453125000000000000000000000000000000000000000000000000000000000000000000000000000000 sec\n"
     ]
    }
   ],
   "source": [
    "start = time.time()\n",
    "rf_clf_pred=rf_clf.predict(temp_scaled)\n",
    "end = time.time()\n",
    "\n",
    "print(rf_clf_pred)\n",
    "print(f\"{end - start:.100f} sec\")"
   ]
  },
  {
   "cell_type": "code",
   "execution_count": null,
   "id": "6bad56d5",
   "metadata": {},
   "outputs": [],
   "source": []
  }
 ],
 "metadata": {
  "kernelspec": {
   "display_name": "Python 3 (ipykernel)",
   "language": "python",
   "name": "python3"
  },
  "language_info": {
   "codemirror_mode": {
    "name": "ipython",
    "version": 3
   },
   "file_extension": ".py",
   "mimetype": "text/x-python",
   "name": "python",
   "nbconvert_exporter": "python",
   "pygments_lexer": "ipython3",
   "version": "3.9.16"
  }
 },
 "nbformat": 4,
 "nbformat_minor": 5
}
